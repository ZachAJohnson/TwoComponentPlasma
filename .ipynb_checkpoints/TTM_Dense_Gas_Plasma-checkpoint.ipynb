{
 "cells": [
  {
   "cell_type": "markdown",
   "metadata": {
    "id": "Kh2SsMvMmmni"
   },
   "source": [
    "____\n",
    "\n",
    "# <font color=#FFAA11> Two-Temperature Model </font>\n",
    "\n",
    "The TTM considered here is given by\n",
    "$$\\begin{align}\n",
    "\\frac{\\partial T_e}{\\partial t} &= \\frac{D_e}{r}\\frac{\\partial}{\\partial r}\\left(r\\frac{\\partial T_e}{\\partial r}\\right) - \\kappa (T_e - T_i), \\\\\n",
    "\\frac{\\partial T_i}{\\partial t} &= \\frac{D_i}{r}\\frac{\\partial}{\\partial r}\\left(r\\frac{\\partial T_i}{\\partial r}\\right) + \\kappa (T_e - T_i),\n",
    "\\end{align}\n",
    "$$\n",
    "which assumes a cylindrical plasma composed of electrons and ions with no mass flow. There are two important things to do:\n",
    "1. put these equations into a form we want to use\n",
    "  * definitions/symbols \n",
    "  * spatially varying conductivities\n",
    "  * make these choices consistent with the slides\n",
    "2. check the code very carefully to be sure it is consistent with the form of the equations in the chosen coordinate system. \n",
    "\n",
    "Feel free to copy this notebook to make versions to experiment with; put your version information at the bottom of this cell. In terms of the model and its parameters, a good place to start is with the paper:\n",
    "<font color=#5588FF>\n",
    "* Improved Two-Temperature Model and Its Application in Ultrashort Laser Heating of Metal Films\n",
    "  * Lan Jiang and Hai-Lung Tsai\n",
    "  * _Journal of Heat Transfer_ **127**, 1167 (2005)\n",
    "  </font>\n",
    "\n",
    "\n",
    "This is a toy code just for the purposes of getting started. Three main areas where major improvements are needed:\n",
    "1. physical predictions for the parameters:\n",
    "  * specific heats,\n",
    "  * temperature relaxation rate,\n",
    "  * thermal conductivity,\n",
    "2. density profiles $\\left. n_j(\\rho)\\right|_{ j=\\{e, i\\}}$ used by the parameters,\n",
    "3. units,\n",
    "4. steady improvement of the numerical methods.\n",
    "\n",
    "Nicer visualizations, including animations, would be nice to have in the long run.\n",
    "\n",
    "\n",
    "\n",
    "To keep track of versions:\n",
    "* <font color=#22EE55> Murillo, 28 April 2023 </font>"
   ]
  },
  {
   "cell_type": "code",
   "execution_count": 1,
   "metadata": {
    "colab": {
     "base_uri": "https://localhost:8080/",
     "height": 470
    },
    "executionInfo": {
     "elapsed": 1005,
     "status": "ok",
     "timestamp": 1682701414418,
     "user": {
      "displayName": "Michael Murillo",
      "userId": "04445914509865448303"
     },
     "user_tz": 240
    },
    "id": "cpw85O8yVey5",
    "outputId": "c1031d83-3d81-4897-894f-78b416fbf082"
   },
   "outputs": [
    {
     "data": {
      "image/png": "[encoded data removed]",
      "text/plain": [
       "<Figure size 432x288 with 1 Axes>"
      ]
     },
     "metadata": {
      "needs_background": "light"
     },
     "output_type": "display_data"
    }
   ],
   "source": [
    "import numpy as np\n",
    "import matplotlib.pyplot as plt\n",
    "\n",
    "# Parameters\n",
    "n = 100  # Number of grid points\n",
    "r_max = 1.0  # Maximum radial distance\n",
    "dt = 1e-5  # Time step\n",
    "t_max = 0.01  # Maximum simulation time\n",
    "electron_diffusivity = 0.1  # Electron diffusivity constant\n",
    "ion_diffusivity = 0.1  # Ion diffusivity constant\n",
    "kappa = 15.5  # Temperature relaxation coefficient\n",
    "plot_times = [0.002, 0.005, 0.008]  # Intermediate times for plotting\n",
    "\n",
    "# Discretize spatial domain\n",
    "r = np.linspace(0, r_max, n)\n",
    "dr = r[1] - r[0]\n",
    "\n",
    "# Initialize electron and ion temperature arrays\n",
    "Te = np.zeros(n)\n",
    "Ti = np.zeros(n)\n",
    "\n",
    "# Set initial conditions\n",
    "Te[0] = 10.0\n",
    "Ti[0:50] = 1.0\n",
    "\n",
    "# Time integration loop\n",
    "t = 0\n",
    "plot_idx = 0\n",
    "fig, ax = plt.subplots()\n",
    "while t < t_max:\n",
    "    # Calculate new temperatures using explicit Euler method, finite differences, and relaxation\n",
    "    Te_new = Te + dt * (\n",
    "        electron_diffusivity * (np.roll(Te, -1) - 2 * Te + np.roll(Te, 1)) / dr**2\n",
    "        - kappa * (Te - Ti)\n",
    "    )\n",
    "    Ti_new = Ti + dt * (\n",
    "        ion_diffusivity * (np.roll(Ti, -1) - 2 * Ti + np.roll(Ti, 1)) / dr**2\n",
    "        + kappa * (Te - Ti)\n",
    "    )\n",
    "\n",
    "    # Boundary conditions\n",
    "    Te_new[0] = Te[0]  # Insulated boundary\n",
    "    Te_new[-1] = 0\n",
    "    Ti_new[0] = Ti[0]  # Insulated boundary\n",
    "    Ti_new[-1] = 0\n",
    "\n",
    "    # Update temperatures\n",
    "    Te = Te_new\n",
    "    Ti = Ti_new\n",
    "    t += dt\n",
    "\n",
    "    # Plot temperature profiles at intermediate times\n",
    "    if plot_idx < len(plot_times) and t >= plot_times[plot_idx]:\n",
    "        ax.plot(r, Te, label=f\"Te at t={t:.4f}\")\n",
    "        ax.plot(r, Ti, label=f\"Ti at t={t:.4f}\")\n",
    "        plot_idx += 1\n",
    "\n",
    "# Plot settings\n",
    "ax.set_xlabel(\"Radial distance\")\n",
    "ax.set_ylabel(\"Temperature\")\n",
    "ax.legend()\n",
    "plt.show()\n"
   ]
  },
  {
   "cell_type": "code",
   "execution_count": null,
   "metadata": {
    "id": "Tb6p6Da8fFJR"
   },
   "outputs": [],
   "source": []
  }
 ],
 "metadata": {
  "colab": {
   "authorship_tag": "ABX9TyN+1dshuzPK/lo9RA0AbK4s",
   "provenance": []
  },
  "kernelspec": {
   "display_name": "Python 3 (ipykernel)",
   "language": "python",
   "name": "python3"
  },
  "language_info": {
   "codemirror_mode": {
    "name": "ipython",
    "version": 3
   },
   "file_extension": ".py",
   "mimetype": "text/x-python",
   "name": "python",
   "nbconvert_exporter": "python",
   "pygments_lexer": "ipython3",
   "version": "3.10.6"
  }
 },
 "nbformat": 4,
 "nbformat_minor": 1
}
